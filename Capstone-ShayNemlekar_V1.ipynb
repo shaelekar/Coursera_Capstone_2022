{
    "cells": [
        {
            "cell_type": "markdown",
            "metadata": {
                "collapsed": true
            },
            "source": "## Shay Nemlekar - ML with Python Capstone Project"
        }
    ],
    "metadata": {
        "kernelspec": {
            "display_name": "Python 3.9",
            "language": "python",
            "name": "python3"
        }
    },
    "nbformat": 4,
    "nbformat_minor": 1
}